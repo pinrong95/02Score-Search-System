{
 "cells": [
  {
   "cell_type": "code",
   "execution_count": null,
   "id": "undefined-taylor",
   "metadata": {},
   "outputs": [],
   "source": [
    "!pip install mysqlclient"
   ]
  },
  {
   "cell_type": "markdown",
   "id": "medical-server",
   "metadata": {},
   "source": [
    "# 創建資料表"
   ]
  },
  {
   "cell_type": "code",
   "execution_count": 23,
   "id": "african-desert",
   "metadata": {},
   "outputs": [
    {
     "name": "stdout",
     "output_type": "stream",
     "text": [
      "('ID', 'int', 'NO', 'PRI', None, 'auto_increment')\n",
      "('NAME', 'char(20)', 'NO', '', None, '')\n",
      "('GENDER', 'char(20)', 'NO', '', None, '')\n",
      "('CHINESE', 'char(20)', 'NO', '', None, '')\n",
      "('ENGLISH', 'char(20)', 'NO', '', None, '')\n",
      "('MATH', 'char(20)', 'NO', '', None, '')\n",
      "('SOCIAL_SCIENCE', 'char(20)', 'NO', '', None, '')\n",
      "('SCIENCE', 'char(20)', 'NO', '', None, '')\n"
     ]
    }
   ],
   "source": [
    "import MySQLdb\n",
    "\n",
    "db = MySQLdb.connect(\"localhost\",\"root\",\"@pinrong0126\",'PRACTICEDB')\n",
    "\n",
    "cursor = db.cursor()\n",
    "\n",
    "## 1.將如果STUDENTS資料表存在，將STUDENTS資料表丟棄\n",
    "cursor.execute('DROP TABLES IF EXISTS STUDENTS')\n",
    "\n",
    "\n",
    "## 2.創建STUDENTS資料表，資料表欄位如下\n",
    "'''\n",
    "| ID INT(11) | NAME CHAR(20) | GENDER CHAR(20) | CHINESE CHAR(20) | ENGLISH CHAR(20) | MATH CHAR(20) | SOCIAL_SCIENCE CHAR(20) | SCIENCE  CHAR(20) |\n",
    "\n",
    "PRIMARY KEY = ID\n",
    "CHARSET = utf8\n",
    "'''\n",
    "sql=\"\"\"CREATE TABLE STUDENTS( \n",
    "        ID INT(11) NOT NULL AUTO_INCREMENT ,\n",
    "        NAME CHAR(20) NOT NULL,\n",
    "        GENDER CHAR(20) NOT NULL,\n",
    "        CHINESE CHAR(20) NOT NULL,\n",
    "        ENGLISH CHAR(20) NOT NULL,\n",
    "        MATH CHAR(20) NOT NULL,\n",
    "        SOCIAL_SCIENCE CHAR(20) NOT NULL,\n",
    "        SCIENCE  CHAR(20) NOT NULL,\n",
    "        PRIMARY KEY (ID))DEFAULT CHARSET=utf8\"\"\"\n",
    "\n",
    "\n",
    "cursor.execute(sql)\n",
    "cursor.execute(\"DESCRIBE STUDENTS\")\n",
    "\n",
    "database=cursor.fetchall()\n",
    "for i in database:\n",
    "    print(i)\n",
    "\n",
    "\n",
    "db.close()"
   ]
  },
  {
   "cell_type": "markdown",
   "id": "frequent-helicopter",
   "metadata": {},
   "source": [
    "# 手key學生成績到資料庫內  \n",
    "請手動輸入以下兩位學生成績  \n",
    "name: isaac, gender: m, chinese: 60, english: 72, math: 32, social_science: 52, science: 86  \n",
    "name: amy, gender: f, chinese: 50, english: 22, math: 80, social_science: 15, science: 93"
   ]
  },
  {
   "cell_type": "code",
   "execution_count": 2,
   "id": "blank-professor",
   "metadata": {},
   "outputs": [
    {
     "name": "stdout",
     "output_type": "stream",
     "text": [
      "enter students score\n"
     ]
    },
    {
     "name": "stdin",
     "output_type": "stream",
     "text": [
      "enter name:  isaac\n",
      "enter gender:  m\n",
      "enter chinese score:  60\n",
      "enter english score:  72\n",
      "enter math score:  32\n",
      "enter social science score:  52\n",
      "enter science score:  86\n",
      "continue(y/n)?  y\n",
      "enter name:  amy\n",
      "enter gender:  f\n",
      "enter chinese score:  50\n",
      "enter english score:  22\n",
      "enter math score:  80\n",
      "enter social science score:  15\n",
      "enter science score:  93\n",
      "continue(y/n)?  n\n"
     ]
    }
   ],
   "source": [
    "import MySQLdb\n",
    "\n",
    "db = MySQLdb.connect(\"localhost\",\"root\",\"@pinrong0126\",'PRACTICEDB')\n",
    "\n",
    "cursor = db.cursor()\n",
    "\n",
    "print(\"enter students score\")\n",
    "while True:\n",
    "\n",
    "    student_name = input(\"enter name: \")\n",
    "    student_gender = input(\"enter gender: \")\n",
    "    student_chinese = input(\"enter chinese score: \")\n",
    "    student_english = input(\"enter english score: \")\n",
    "    student_math = input(\"enter math score: \")\n",
    "    student_social_science = input(\"enter social science score: \")\n",
    "    student_science = input(\"enter science score: \")\n",
    "    \n",
    "    ## 3.將student_name, student_gender, student_chinese, ......插入到資料庫\n",
    "    sql=\"INSERT INTO STUDENTS(NAME,GENDER,CHINESE,ENGLISH,MATH,SOCIAL_SCIENCE,SCIENCE) VALUES(%s,%s,%s,%s,%s,%s,%s)\"\n",
    "    try:\n",
    "        cursor.execute(sql,(student_name,student_gender,student_chinese,student_english,student_math,student_social_science,student_science))\n",
    "        db.commit()\n",
    "    except:\n",
    "        db.rollback()\n",
    "    \n",
    "    again = input(\"continue(y/n)? \")\n",
    "    if again[0].lower() == \"n\":\n",
    "        break\n",
    "\n",
    "db.close()"
   ]
  },
  {
   "cell_type": "code",
   "execution_count": null,
   "id": "adb01fa4-5c98-4682-b6b5-5d9db0848318",
   "metadata": {},
   "outputs": [],
   "source": [
    "name: isaac, gender: m, chinese: 60, english: 72, math: 32, social_science: 52, science: 86\n",
    "name: amy, gender: f, chinese: 50, english: 22, math: 80, social_science: 15, science: 93"
   ]
  },
  {
   "cell_type": "markdown",
   "id": "middle-jesus",
   "metadata": {},
   "source": [
    "# 查詢目前資料庫所有內容"
   ]
  },
  {
   "cell_type": "code",
   "execution_count": 10,
   "id": "regular-preservation",
   "metadata": {},
   "outputs": [
    {
     "name": "stdout",
     "output_type": "stream",
     "text": [
      "name:  isaac , gender:  m , chinese:  60 , english:  72 ,math:  32 , social_science:  52 , science:  86\n",
      "name:  amy , gender:  f , chinese:  50 , english:  22 ,math:  80 , social_science:  15 , science:  93\n"
     ]
    }
   ],
   "source": [
    "import MySQLdb\n",
    "\n",
    "db = MySQLdb.connect(\"localhost\",\"root\",\"@pinrong0126\",'PRACTICEDB')\n",
    "\n",
    "\n",
    "cursor = db.cursor()\n",
    "\n",
    "sql = \"SELECT * FROM STUDENTS\"\n",
    "\n",
    "## 4.查詢目前資料庫所有內容\n",
    "cursor.execute(sql)\n",
    "try:\n",
    "    result=cursor.fetchall()\n",
    "    for i in result:\n",
    "        print(\"name: \",i[1],\", gender: \",i[2],\", chinese: \",i[3],\", english: \",i[4],\",math: \",i[5],\", social_science: \",i[6],\", science: \",i[7])\n",
    "except:\n",
    "    print(\"ERROR\")\n",
    "db.close()"
   ]
  },
  {
   "cell_type": "markdown",
   "id": "governmental-specific",
   "metadata": {},
   "source": [
    "# 使用csv檔案，大量匯入全班成績"
   ]
  },
  {
   "cell_type": "code",
   "execution_count": 45,
   "id": "bound-battlefield",
   "metadata": {},
   "outputs": [
    {
     "name": "stdout",
     "output_type": "stream",
     "text": [
      "insert loe data......\n",
      "insert judy data......\n",
      "insert lily data......\n",
      "insert evan data......\n",
      "insert joyce data......\n",
      "insert yoshi data......\n",
      "insert amber data......\n",
      "insert alex data......\n",
      "insert sophia data......\n"
     ]
    }
   ],
   "source": [
    "import MySQLdb\n",
    "\n",
    "db = MySQLdb.connect(\"localhost\",\"root\",\"@pinrong0126\",'PRACTICEDB')\n",
    "\n",
    "\n",
    "cursor = db.cursor()\n",
    "\n",
    "\n",
    "## 5.將exam_score.csv所有學生成績插入資料庫\n",
    "with open('exam_score.csv','r') as file:\n",
    "    for index,i in enumerate(file.readlines()): #readlines()讀取檔案的所有行,enumerate()將每行內容與其對應的索引號（從 0 開始）一起返回\n",
    "        if index==0:\n",
    "            continue\n",
    "        insertdata=tuple(i.strip().split(','))\n",
    "        print(\"insert\",insertdata[0],\"data......\")\n",
    "\n",
    "        sql=\"INSERT INTO STUDENTS(NAME,GENDER,CHINESE,ENGLISH,MATH,SOCIAL_SCIENCE,SCIENCE) VALUES(%s,%s,%s,%s,%s,%s,%s)\"\n",
    "        try:\n",
    "            cursor.execute(sql,insertdata)\n",
    "            db.commit()\n",
    "        except:\n",
    "            cursor.rollback()\n",
    "\n",
    "db.close()"
   ]
  },
  {
   "cell_type": "code",
   "execution_count": null,
   "id": "57e1690f-79ae-48e6-84fc-ccece86c7338",
   "metadata": {},
   "outputs": [],
   "source": [
    "insert loe data......\n",
    "insert judy data......\n",
    "insert lily data......\n",
    "insert evan data......\n",
    "insert joyce data......\n",
    "insert yoshi data......\n",
    "insert amber data......\n",
    "insert alex data......\n",
    "insert sophia data......"
   ]
  },
  {
   "cell_type": "markdown",
   "id": "cooperative-rental",
   "metadata": {},
   "source": [
    "# 將sophia英文成績改成99"
   ]
  },
  {
   "cell_type": "code",
   "execution_count": 54,
   "id": "starting-nowhere",
   "metadata": {},
   "outputs": [
    {
     "name": "stdout",
     "output_type": "stream",
     "text": [
      "(6, 'sophia', 'f', '79', '99', '70', '49', '70')\n",
      "(7, 'loe', 'm', '70', '48', '69', '50', '66')\n",
      "(8, 'judy', 'f', '89', '90', '59', '28', '39')\n",
      "(9, 'lily', 'f', '37', '43', '67', '34', '43')\n",
      "(10, 'evan', 'm', '12', '57', '97', '100', '100')\n",
      "(11, 'joyce', 'f', '58', '48', '47', '98', '37')\n",
      "(12, 'yoshi', 'm', '58', '49', '79', '38', '20')\n",
      "(13, 'amber', 'f', '57', '23', '6', '28', '69')\n",
      "(14, 'alex', 'm', '59', '69', '20', '60', '79')\n",
      "(15, 'sophia', 'f', '79', '99', '70', '49', '70')\n"
     ]
    }
   ],
   "source": [
    "import MySQLdb\n",
    "\n",
    "db = MySQLdb.connect(\"localhost\",\"root\",\"@pinrong0126\",'PRACTICEDB')\n",
    "\n",
    "cursor = db.cursor()\n",
    "\n",
    "## 6.將sophia英文成績改成99\n",
    "sql='UPDATE STUDENTs SET ENGLISH=99 WHERE NAME=\"SOPHIA\"'\n",
    "cursor.execute(sql)\n",
    "db.commit()\n",
    "\n",
    "cursor.execute(\"SELECT * FROM STUDENTS\")\n",
    "database=cursor.fetchall()\n",
    "for i in database:\n",
    "    print(i)\n",
    "\n",
    "db.close()"
   ]
  },
  {
   "cell_type": "markdown",
   "id": "planned-player",
   "metadata": {},
   "source": [
    "# 計算各科平均"
   ]
  },
  {
   "cell_type": "code",
   "execution_count": 91,
   "id": "occasional-perception",
   "metadata": {},
   "outputs": [
    {
     "name": "stdout",
     "output_type": "stream",
     "text": [
      "name: sophia, gender: f, chinese: 79, english: 99, math: 70, social_science: 49, science: 70\n",
      "name: loe, gender: m, chinese: 70, english: 48, math: 69, social_science: 50, science: 66\n",
      "name: judy, gender: f, chinese: 89, english: 90, math: 59, social_science: 28, science: 39\n",
      "name: lily, gender: f, chinese: 37, english: 43, math: 67, social_science: 34, science: 43\n",
      "name: evan, gender: m, chinese: 12, english: 57, math: 97, social_science: 100, science: 100\n",
      "name: joyce, gender: f, chinese: 58, english: 48, math: 47, social_science: 98, science: 37\n",
      "name: yoshi, gender: m, chinese: 58, english: 49, math: 79, social_science: 38, science: 20\n",
      "name: amber, gender: f, chinese: 57, english: 23, math: 6, social_science: 28, science: 69\n",
      "name: alex, gender: m, chinese: 59, english: 69, math: 20, social_science: 60, science: 79\n",
      "name: sophia, gender: f, chinese: 79, english: 99, math: 70, social_science: 49, science: 70\n",
      "chinese_avg: 59.8\n",
      "english_avg: 62.5\n",
      "math_avg: 58.4\n",
      "social_science_avg: 53.4\n",
      "science_avg: 59.3\n"
     ]
    }
   ],
   "source": [
    "import MySQLdb\n",
    "\n",
    "db = MySQLdb.connect(\"localhost\",\"root\",\"@pinrong0126\",'PRACTICEDB')\n",
    "\n",
    "cursor = db.cursor()\n",
    "\n",
    "\n",
    "sql = \"SELECT * FROM STUDENTS\"\n",
    "chinese_sum = 0\n",
    "english_sum = 0\n",
    "math_sum = 0\n",
    "social_science_sum = 0\n",
    "science_sum = 0\n",
    "\n",
    "try:\n",
    "    \n",
    "    cursor.execute(sql)\n",
    "\n",
    "    results = cursor.fetchall()\n",
    "    num_students = len(results) #學生數量\n",
    "    ## 7.計算各個科目平均成績\n",
    "    for row in results:\n",
    "        student_id = row[0]\n",
    "        student_name = row[1]\n",
    "        student_gender = row[2]\n",
    "\n",
    "        \n",
    "        student_chinese = row[3]\n",
    "        chinese_sum = chinese_sum + float(row[3])\n",
    "                \n",
    "        \n",
    "        student_english = row[4]\n",
    "        english_sum = english_sum + float(row[4])\n",
    "        \n",
    "        \n",
    "        student_math = row[5]\n",
    "        math_sum = math_sum + float(row[5])        \n",
    "        \n",
    "        student_social_science = row[6]\n",
    "        social_science_sum = social_science_sum + float(row[6])   \n",
    "        \n",
    "        student_science = row[7]\n",
    "        science_sum = science_sum + float(row[7])\n",
    "\n",
    "        print('name: {}, gender: {}, chinese: {}, english: {}, math: {}, social_science: {}, science: {}' \n",
    "               .format(student_name, student_gender, student_chinese, student_english, student_math, student_social_science, student_science))\n",
    "\n",
    "except:\n",
    "    print(\"Error: unable to fecth data\")\n",
    "\n",
    "print('chinese_avg: {}'.format(chinese_sum/num_students))\n",
    "print('english_avg: {}'.format(english_sum/num_students))\n",
    "print('math_avg: {}'.format(math_sum/num_students))\n",
    "print('social_science_avg: {}'.format(social_science_sum/num_students))\n",
    "print('science_avg: {}'.format(science_sum/num_students))\n",
    "\n",
    "\n",
    "db.close()"
   ]
  },
  {
   "cell_type": "code",
   "execution_count": null,
   "id": "individual-flood",
   "metadata": {},
   "outputs": [],
   "source": [
    "name: isaac, gender: m, chinese: 60, english: 72, math: 32, social_science: 52, science: 86\n",
    "name: amy, gender: f, chinese: 50, english: 22, math: 80, social_science: 15, science: 93\n",
    "name: loe, gender: m, chinese: 70, english: 48, math: 69, social_science: 50, science: 66\n",
    "name: judy, gender: f, chinese: 89, english: 90, math: 59, social_science: 28, science: 39\n",
    "name: lily, gender: f, chinese: 37, english: 43, math: 67, social_science: 34, science: 43\n",
    "name: evan, gender: m, chinese: 12, english: 57, math: 97, social_science: 100, science: 100\n",
    "name: joyce, gender: f, chinese: 58, english: 48, math: 47, social_science: 98, science: 37\n",
    "name: yoshi, gender: m, chinese: 58, english: 49, math: 79, social_science: 38, science: 20\n",
    "name: amber, gender: f, chinese: 57, english: 23, math: 6, social_science: 28, science: 69\n",
    "name: alex, gender: m, chinese: 59, english: 69, math: 20, social_science: 60, science: 79\n",
    "name: sophia, gender: f, chinese: 79, english: 99, math: 70, social_science: 49, science: 70\n",
    "chinese_avg: 57.18181818181818\n",
    "english_avg: 56.36363636363637\n",
    "math_avg: 56.90909090909091\n",
    "social_science_avg: 50.18181818181818\n",
    "science_avg: 63.81818181818182"
   ]
  },
  {
   "cell_type": "markdown",
   "id": "525ed46d-3565-416f-afef-bc39cdcc0a58",
   "metadata": {},
   "source": [
    "# 計算各科成績平均 by pandas"
   ]
  },
  {
   "cell_type": "code",
   "execution_count": 90,
   "id": "0dcea09a-6ea0-40ff-9236-4be5a98a30db",
   "metadata": {},
   "outputs": [
    {
     "name": "stdout",
     "output_type": "stream",
     "text": [
      " ID   NAME GENDER CHINESE ENGLISH MATH SOCIAL_SCIENCE SCIENCE\n",
      "  6 sophia      f      79      99   70             49      70\n",
      "  7    loe      m      70      48   69             50      66\n",
      "  8   judy      f      89      90   59             28      39\n",
      "  9   lily      f      37      43   67             34      43\n",
      " 10   evan      m      12      57   97            100     100\n",
      " 11  joyce      f      58      48   47             98      37\n",
      " 12  yoshi      m      58      49   79             38      20\n",
      " 13  amber      f      57      23    6             28      69\n",
      " 14   alex      m      59      69   20             60      79\n",
      " 15 sophia      f      79      99   70             49      70\n",
      "chinese_avg: 59.8\n",
      "english_avg: 62.5\n",
      "math_avg: 58.4\n",
      "social_science_avg: 53.4\n",
      "science_avg: 59.3\n"
     ]
    },
    {
     "name": "stderr",
     "output_type": "stream",
     "text": [
      "C:\\Users\\user\\AppData\\Local\\Temp\\ipykernel_6024\\182800506.py:13: FutureWarning: errors='ignore' is deprecated and will raise in a future version. Use to_numeric without passing `errors` and catch exceptions explicitly instead\n",
      "  df=df.apply(pd.to_numeric,errors=\"ignore\")\n"
     ]
    }
   ],
   "source": [
    "import pandas as pd\n",
    "from sqlalchemy import create_engine\n",
    "import MySQLdb\n",
    "\n",
    "db = MySQLdb.connect(\"localhost\",\"root\",\"@pinrong0126\",'PRACTICEDB')\n",
    "cursor = db.cursor()\n",
    "\n",
    "sql = \"SELECT * FROM STUDENTS\"\n",
    "cursor.execute(sql)\n",
    "result=cursor.fetchall()\n",
    "df=pd.DataFrame(result,columns=['ID','NAME','GENDER','CHINESE','ENGLISH','MATH','SOCIAL_SCIENCE','SCIENCE'])\n",
    "print(df.to_string(index=False))\n",
    "df=df.apply(pd.to_numeric,errors=\"ignore\")\n",
    "#df['CHINESE']=pd.to_numeric(df['CHINESE'])\n",
    "\n",
    "print('chinese_avg: {}'.format(df['CHINESE'].mean()))\n",
    "print('english_avg: {}'.format(df['ENGLISH'].mean()))\n",
    "print('math_avg: {}'.format(df['MATH'].mean()))\n",
    "print('social_science_avg: {}'.format(df['SOCIAL_SCIENCE'].mean()))\n",
    "print('science_avg: {}'.format(df['SCIENCE'].mean()))"
   ]
  },
  {
   "cell_type": "code",
   "execution_count": 1,
   "id": "41f3b7bf-864a-45fa-9551-842e88826e0e",
   "metadata": {},
   "outputs": [],
   "source": [
    "!pip freeze > requirements.txt"
   ]
  },
  {
   "cell_type": "code",
   "execution_count": null,
   "id": "623863c8-18aa-45a0-9485-d0425081a2ec",
   "metadata": {},
   "outputs": [],
   "source": []
  }
 ],
 "metadata": {
  "kernelspec": {
   "display_name": "Python 3 (ipykernel)",
   "language": "python",
   "name": "python3"
  },
  "language_info": {
   "codemirror_mode": {
    "name": "ipython",
    "version": 3
   },
   "file_extension": ".py",
   "mimetype": "text/x-python",
   "name": "python",
   "nbconvert_exporter": "python",
   "pygments_lexer": "ipython3",
   "version": "3.12.5"
  }
 },
 "nbformat": 4,
 "nbformat_minor": 5
}
